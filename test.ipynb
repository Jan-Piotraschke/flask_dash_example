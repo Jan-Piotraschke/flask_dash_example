{
 "cells": [
  {
   "cell_type": "code",
   "execution_count": 2,
   "metadata": {},
   "outputs": [],
   "source": [
    "from pathlib import Path\n",
    "import pathlib\n",
    "import os"
   ]
  },
  {
   "cell_type": "code",
   "execution_count": 24,
   "metadata": {},
   "outputs": [
    {
     "data": {
      "text/plain": [
       "'c:/Users/gkekj/Documents/flasktrainig/flask_dash_example/src/static/uploads.js'"
      ]
     },
     "execution_count": 24,
     "metadata": {},
     "output_type": "execute_result"
    }
   ],
   "source": [
    "Path(str(Path.cwd()) + '/src/static/uploads.js').as_posix()"
   ]
  },
  {
   "cell_type": "code",
   "execution_count": 3,
   "metadata": {},
   "outputs": [
    {
     "data": {
      "text/plain": [
       "WindowsPath('c:/Users/gkekj/Documents/flasktrainig/flask_dash_example')"
      ]
     },
     "execution_count": 3,
     "metadata": {},
     "output_type": "execute_result"
    }
   ],
   "source": [
    "Path.cwd()"
   ]
  },
  {
   "cell_type": "code",
   "execution_count": 23,
   "metadata": {},
   "outputs": [
    {
     "name": "stdout",
     "output_type": "stream",
     "text": [
      "nothing\n",
      "uploads\n"
     ]
    }
   ],
   "source": [
    "#a = Path(str(Path.cwd()) + '/src/static/upload.js').exists()\n",
    "a = Path('/src/static/upload.js').exists()\n",
    "if a is False:\n",
    "    print('nothing')\n",
    "\n",
    "else:\n",
    "    print('yes')\n",
    "print(Path('uploads'))"
   ]
  }
 ],
 "metadata": {
  "kernelspec": {
   "display_name": "fladaenv",
   "language": "python",
   "name": "python3"
  },
  "language_info": {
   "codemirror_mode": {
    "name": "ipython",
    "version": 3
   },
   "file_extension": ".py",
   "mimetype": "text/x-python",
   "name": "python",
   "nbconvert_exporter": "python",
   "pygments_lexer": "ipython3",
   "version": "3.9.13"
  },
  "orig_nbformat": 4
 },
 "nbformat": 4,
 "nbformat_minor": 2
}
